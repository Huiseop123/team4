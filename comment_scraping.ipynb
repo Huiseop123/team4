{
 "cells": [
  {
   "cell_type": "code",
   "execution_count": 7,
   "metadata": {},
   "outputs": [
    {
     "name": "stdout",
     "output_type": "stream",
     "text": [
      "Collecting webdriver-manager\n",
      "  Downloading webdriver_manager-3.7.1-py2.py3-none-any.whl (25 kB)\n",
      "Collecting python-dotenv\n",
      "  Downloading python_dotenv-0.20.0-py3-none-any.whl (17 kB)\n",
      "Requirement already satisfied: requests in c:\\users\\huiseop\\anaconda3\\envs\\cp1\\lib\\site-packages (from webdriver-manager) (2.27.1)\n",
      "Requirement already satisfied: charset-normalizer~=2.0.0 in c:\\users\\huiseop\\anaconda3\\envs\\cp1\\lib\\site-packages (from requests->webdriver-manager) (2.0.4)\n",
      "Requirement already satisfied: idna<4,>=2.5 in c:\\users\\huiseop\\anaconda3\\envs\\cp1\\lib\\site-packages (from requests->webdriver-manager) (3.3)\n",
      "Requirement already satisfied: urllib3<1.27,>=1.21.1 in c:\\users\\huiseop\\anaconda3\\envs\\cp1\\lib\\site-packages (from requests->webdriver-manager) (1.26.9)\n",
      "Requirement already satisfied: certifi>=2017.4.17 in c:\\users\\huiseop\\anaconda3\\envs\\cp1\\lib\\site-packages (from requests->webdriver-manager) (2022.6.15)\n",
      "Installing collected packages: python-dotenv, webdriver-manager\n",
      "Successfully installed python-dotenv-0.20.0 webdriver-manager-3.7.1\n",
      "Note: you may need to restart the kernel to use updated packages.\n"
     ]
    }
   ],
   "source": [
    "pip install webdriver-manager"
   ]
  },
  {
   "cell_type": "code",
   "execution_count": 14,
   "metadata": {},
   "outputs": [
    {
     "name": "stdout",
     "output_type": "stream",
     "text": [
      "Collecting openpyxl\n",
      "  Downloading openpyxl-3.0.10-py2.py3-none-any.whl (242 kB)\n",
      "Collecting et-xmlfile\n",
      "  Downloading et_xmlfile-1.1.0-py3-none-any.whl (4.7 kB)\n",
      "Installing collected packages: et-xmlfile, openpyxl\n",
      "Successfully installed et-xmlfile-1.1.0 openpyxl-3.0.10\n",
      "Note: you may need to restart the kernel to use updated packages.\n"
     ]
    }
   ],
   "source": [
    "pip install openpyxl"
   ]
  },
  {
   "cell_type": "code",
   "execution_count": 15,
   "metadata": {},
   "outputs": [],
   "source": [
    "import pandas as pd\n",
    "from bs4 import BeautifulSoup\n",
    "from selenium import webdriver\n",
    "from webdriver_manager.chrome import ChromeDriverManager\n",
    "from tqdm.notebook import tqdm\n",
    "import time\n",
    "import re\n",
    "import requests\n",
    "import random\n",
    "import pickle\n",
    "import openpyxl"
   ]
  },
  {
   "cell_type": "markdown",
   "metadata": {},
   "source": [
    "https://manyda.tistory.com/10\n",
    "여기에서 나온 거 활용"
   ]
  },
  {
   "cell_type": "code",
   "execution_count": 3,
   "metadata": {},
   "outputs": [],
   "source": [
    "#Queue의 기본적인 기능 구현\n",
    "class Queue():\n",
    "    def __init__(self, maxsize):\n",
    "        self.queue = []\n",
    "        self.maxsize = maxsize\n",
    "        \n",
    "    # Queue에 Data 넣음\n",
    "    def enqueue(self, data):\n",
    "        self.queue.append(data)\n",
    "\n",
    "    # Queue에 가장 먼저 들어온 Data 내보냄\n",
    "    def dequeue(self):\n",
    "        dequeue_object = None\n",
    "        if self.isEmpty():\n",
    "            print(\"Queue is Empty\")\n",
    "        else:\n",
    "            dequeue_object = self.queue[0]\n",
    "            self.queue = self.queue[1:]\n",
    "        return dequeue_object\n",
    "    \n",
    "    # Queue에 가장 먼저들어온 Data return\n",
    "    def peek(self):\n",
    "        peek_object = None\n",
    "        if self.isEmpty():\n",
    "            print(\"Queue is Empty\")\n",
    "        else:\n",
    "            peek_object = self.queue[0]\n",
    "        return peek_object\n",
    "    \n",
    "    # Queue가 비어있는지 확인\n",
    "    def isEmpty(self):\n",
    "        is_empty = False\n",
    "        if len(self.queue) == 0:\n",
    "            is_empty = True\n",
    "        return is_empty\n",
    "    \n",
    "    # Queue의 Size가 Max Size를 초과하는지 확인\n",
    "    def isMaxSizeOver(self):\n",
    "        queue_size = len(self.queue)\n",
    "        if (queue_size > self.maxsize):\n",
    "            return False\n",
    "        else :\n",
    "            return True"
   ]
  },
  {
   "cell_type": "code",
   "execution_count": 27,
   "metadata": {},
   "outputs": [
    {
     "name": "stdout",
     "output_type": "stream",
     "text": [
      "\n"
     ]
    },
    {
     "name": "stderr",
     "output_type": "stream",
     "text": [
      "[WDM] - ====== WebDriver manager ======\n",
      "[WDM] - Current google-chrome version is 103.0.5060\n",
      "[WDM] - Get LATEST chromedriver version for 103.0.5060 google-chrome\n",
      "[WDM] - Driver [C:\\Users\\Huiseop\\.wdm\\drivers\\chromedriver\\win32\\103.0.5060.53\\chromedriver.exe] found in cache\n",
      "C:\\Users\\Huiseop\\AppData\\Local\\Temp\\ipykernel_25524\\4004985141.py:9: DeprecationWarning: use options instead of chrome_options\n",
      "  driver = webdriver.Chrome(ChromeDriverManager().install(), chrome_options=options)\n"
     ]
    }
   ],
   "source": [
    "if __name__==\"__main__\":\n",
    "    #set option of selenium\n",
    "    options = webdriver.ChromeOptions()\n",
    "    options.add_argument('window-size=1920x1080')\n",
    "    options.add_argument('disable-gpu')\n",
    "    options.add_argument('user')\n",
    "    options.add_argument(\"user-agent=Mozilla/5.0 (Macintosh; Intel Mac OS X 10_12_6) AppleWebKit/537.36 (KHTML, like Gecko) Chrome/61.0.3163.100 Safari/537.36\")\n",
    "    options.add_argument(\"lang=ko_KR\")\n",
    "    driver = webdriver.Chrome(ChromeDriverManager().install(), chrome_options=options)\n",
    "\n",
    "    #target of crawling\n",
    "    data_list = []\n",
    "    driver.get(\"https://www.youtube.com/watch?v=QndOyQtTHUQ\")\n",
    "    \n",
    "    #페이지 Open 후 기다리는 시간\n",
    "    time.sleep(15.0)\n",
    "\n",
    "    #down the scroll\n",
    "    body = driver.find_element_by_tag_name('body')\n",
    "    last_page_height = driver.execute_script(\"return document.documentElement.scrollHeight\")\n",
    "    \n",
    "    # max size 50의 Queue 생성\n",
    "    # 0.1sec * 50 = 5sec 동안 Scroll 업데이트가 없으면 스크롤 내리기 종료\n",
    "    szQ = Queue(50)\n",
    "    enqueue_count = 0\n",
    "    \n",
    "    while True:\n",
    "        # Scroll 내리기\n",
    "        driver.execute_script(\"window.scrollTo(0, document.documentElement.scrollHeight);\")\n",
    "        \n",
    "        # Scroll Height를 가져오는 주기\n",
    "        time.sleep(0.1)\n",
    "        new_page_height = driver.execute_script(\"return document.documentElement.scrollHeight\")\n",
    "        \n",
    "        # Queue가 꽉 차는 경우 스크롤 내리기 종료\n",
    "        if(enqueue_count > szQ.maxsize):\n",
    "            break\n",
    "        \n",
    "        # 첫 Loop 수행 (Queue가 비어있는 경우) 예외 처리\n",
    "        if(szQ.isEmpty()) :\n",
    "            szQ.enqueue(new_page_height)\n",
    "            enqueue_count += 1\n",
    "            \n",
    "        # Queue에 가장 먼저 들어온 데이터와 새로 업데이트 된 Scroll Height를 비교함\n",
    "        # 같으면 그대로 Enqueue, 다르면 Queue의 모든 Data를 Dequeue 후 새로운 Scroll Height를 Enqueue 함.    \n",
    "        else :\n",
    "            if(szQ.peek() == new_page_height) :\n",
    "                szQ.enqueue(new_page_height)\n",
    "                enqueue_count += 1\n",
    "            else :\n",
    "                szQ.enqueue(new_page_height)\n",
    "                for z in range(enqueue_count) :\n",
    "                    szQ.dequeue()\n",
    "                enqueue_count = 1\n",
    "        \n",
    "        # 기존의 Scroll 내리는 방식      \n",
    "        #if new_page_height == last_page_height:\n",
    "        #    break\n",
    "        #last_page_height = new_page_height\n",
    "        #time.sleep(2.0)\n",
    "    \n",
    "    # print (\"[PASS] Get all comments of URL\")\n",
    "\n",
    "    html0 = driver.page_source\n",
    "    driver.close()\n",
    "    html = BeautifulSoup(html0, 'html.parser')\n",
    "\n",
    "    comments_list = html.findAll('ytd-comment-thread-renderer', {'class':'style-scope ytd-item-section-renderer'})\n",
    "    # print (comments_list)"
   ]
  },
  {
   "cell_type": "code",
   "execution_count": 28,
   "metadata": {},
   "outputs": [],
   "source": [
    "for j in range(len(comments_list)):\n",
    "     #contents of comment\n",
    "        comment = comments_list[j].find('yt-formatted-string',{'id':'content-text'}).text\n",
    "        comment = comment.replace('\\n', '') \n",
    "        comment = comment.replace('\\t', '')\n",
    "        #print(comment) \n",
    "        youtube_id = comments_list[j].find('a', {'id': 'author-text'}).span.text\n",
    "        youtube_id = youtube_id.replace('\\n', '') \n",
    "        youtube_id = youtube_id.replace('\\t', '') \n",
    "        youtube_id = youtube_id.strip()\n",
    "    \n",
    "        raw_date = comments_list[j].find('yt-formatted-string', { 'class': 'published-time-text above-comment style-scope ytd-comment-renderer'})\n",
    "        date = raw_date.a.text\n",
    "    \n",
    "        try:\n",
    "            like_num = comments_list[j].find('span', {'id': 'vote-count-middle', 'class': 'style-scope ytd-comment-action-buttons-renderer', 'aria-label': re.compile('좋아요')}).text\n",
    "            like_num = like_num.replace('\\n', '') \n",
    "            like_num = like_num.replace('\\t', '')\n",
    "            like_num = like_num.strip()\n",
    "        except: like_num = 0\n",
    "    \n",
    "        data = {'youtube_id': youtube_id, 'comment': comment, 'date': date, 'like_num': like_num}\n",
    "        data_list.append(data)\n",
    "    \n",
    "result_df = pd.DataFrame(data_list, columns=['youtube_id','comment','date','like_num'])    \n",
    "result_df.to_excel(\"./data.xlsx\", index = False)"
   ]
  },
  {
   "cell_type": "markdown",
   "metadata": {},
   "source": [
    "https://bit.ly/3ymqjH5\n",
    "여기에서 나온거 활용"
   ]
  },
  {
   "cell_type": "code",
   "execution_count": 32,
   "metadata": {},
   "outputs": [
    {
     "name": "stdout",
     "output_type": "stream",
     "text": [
      "\n"
     ]
    },
    {
     "name": "stderr",
     "output_type": "stream",
     "text": [
      "[WDM] - ====== WebDriver manager ======\n",
      "[WDM] - Current google-chrome version is 103.0.5060\n",
      "[WDM] - Get LATEST chromedriver version for 103.0.5060 google-chrome\n",
      "[WDM] - Driver [C:\\Users\\Huiseop\\.wdm\\drivers\\chromedriver\\win32\\103.0.5060.53\\chromedriver.exe] found in cache\n",
      "C:\\Users\\Huiseop\\AppData\\Local\\Temp\\ipykernel_25524\\1205492189.py:8: DeprecationWarning: use options instead of chrome_options\n",
      "  driver = webdriver.Chrome(ChromeDriverManager().install(),\n"
     ]
    },
    {
     "ename": "WebDriverException",
     "evalue": "Message: chrome not reachable\n  (Session info: chrome=103.0.5060.66)\n",
     "output_type": "error",
     "traceback": [
      "\u001b[1;31m---------------------------------------------------------------------------\u001b[0m",
      "\u001b[1;31mWebDriverException\u001b[0m                        Traceback (most recent call last)",
      "\u001b[1;32md:\\AIB\\CP1\\comment_scraping.ipynb Cell 9'\u001b[0m in \u001b[0;36m<cell line: 19>\u001b[1;34m()\u001b[0m\n\u001b[0;32m     <a href='vscode-notebook-cell:/d%3A/AIB/CP1/comment_scraping.ipynb#ch0000009?line=18'>19</a>\u001b[0m driver\u001b[39m.\u001b[39mexecute_script(\u001b[39m\"\u001b[39m\u001b[39mwindow.scrollTo(0, document.documentElement.scrollHeight);\u001b[39m\u001b[39m\"\u001b[39m)\n\u001b[0;32m     <a href='vscode-notebook-cell:/d%3A/AIB/CP1/comment_scraping.ipynb#ch0000009?line=19'>20</a>\u001b[0m time\u001b[39m.\u001b[39msleep(\u001b[39m2\u001b[39m)\n\u001b[1;32m---> <a href='vscode-notebook-cell:/d%3A/AIB/CP1/comment_scraping.ipynb#ch0000009?line=20'>21</a>\u001b[0m new_page_height \u001b[39m=\u001b[39m driver\u001b[39m.\u001b[39;49mexecute_script(\u001b[39m\"\u001b[39;49m\u001b[39mreturn document.documentElement.scrollHeight\u001b[39;49m\u001b[39m\"\u001b[39;49m)\n\u001b[0;32m     <a href='vscode-notebook-cell:/d%3A/AIB/CP1/comment_scraping.ipynb#ch0000009?line=21'>22</a>\u001b[0m \u001b[39mif\u001b[39;00m new_page_height \u001b[39m==\u001b[39m last_page_height:\n\u001b[0;32m     <a href='vscode-notebook-cell:/d%3A/AIB/CP1/comment_scraping.ipynb#ch0000009?line=22'>23</a>\u001b[0m     \u001b[39mbreak\u001b[39;00m\n",
      "File \u001b[1;32mc:\\Users\\Huiseop\\anaconda3\\envs\\cp1\\lib\\site-packages\\selenium\\webdriver\\remote\\webdriver.py:634\u001b[0m, in \u001b[0;36mWebDriver.execute_script\u001b[1;34m(self, script, *args)\u001b[0m\n\u001b[0;32m    631\u001b[0m \u001b[39melse\u001b[39;00m:\n\u001b[0;32m    632\u001b[0m     command \u001b[39m=\u001b[39m Command\u001b[39m.\u001b[39mEXECUTE_SCRIPT\n\u001b[1;32m--> 634\u001b[0m \u001b[39mreturn\u001b[39;00m \u001b[39mself\u001b[39;49m\u001b[39m.\u001b[39;49mexecute(command, {\n\u001b[0;32m    635\u001b[0m     \u001b[39m'\u001b[39;49m\u001b[39mscript\u001b[39;49m\u001b[39m'\u001b[39;49m: script,\n\u001b[0;32m    636\u001b[0m     \u001b[39m'\u001b[39;49m\u001b[39margs\u001b[39;49m\u001b[39m'\u001b[39;49m: converted_args})[\u001b[39m'\u001b[39m\u001b[39mvalue\u001b[39m\u001b[39m'\u001b[39m]\n",
      "File \u001b[1;32mc:\\Users\\Huiseop\\anaconda3\\envs\\cp1\\lib\\site-packages\\selenium\\webdriver\\remote\\webdriver.py:321\u001b[0m, in \u001b[0;36mWebDriver.execute\u001b[1;34m(self, driver_command, params)\u001b[0m\n\u001b[0;32m    319\u001b[0m response \u001b[39m=\u001b[39m \u001b[39mself\u001b[39m\u001b[39m.\u001b[39mcommand_executor\u001b[39m.\u001b[39mexecute(driver_command, params)\n\u001b[0;32m    320\u001b[0m \u001b[39mif\u001b[39;00m response:\n\u001b[1;32m--> 321\u001b[0m     \u001b[39mself\u001b[39;49m\u001b[39m.\u001b[39;49merror_handler\u001b[39m.\u001b[39;49mcheck_response(response)\n\u001b[0;32m    322\u001b[0m     response[\u001b[39m'\u001b[39m\u001b[39mvalue\u001b[39m\u001b[39m'\u001b[39m] \u001b[39m=\u001b[39m \u001b[39mself\u001b[39m\u001b[39m.\u001b[39m_unwrap_value(\n\u001b[0;32m    323\u001b[0m         response\u001b[39m.\u001b[39mget(\u001b[39m'\u001b[39m\u001b[39mvalue\u001b[39m\u001b[39m'\u001b[39m, \u001b[39mNone\u001b[39;00m))\n\u001b[0;32m    324\u001b[0m     \u001b[39mreturn\u001b[39;00m response\n",
      "File \u001b[1;32mc:\\Users\\Huiseop\\anaconda3\\envs\\cp1\\lib\\site-packages\\selenium\\webdriver\\remote\\errorhandler.py:242\u001b[0m, in \u001b[0;36mErrorHandler.check_response\u001b[1;34m(self, response)\u001b[0m\n\u001b[0;32m    240\u001b[0m         alert_text \u001b[39m=\u001b[39m value[\u001b[39m'\u001b[39m\u001b[39malert\u001b[39m\u001b[39m'\u001b[39m]\u001b[39m.\u001b[39mget(\u001b[39m'\u001b[39m\u001b[39mtext\u001b[39m\u001b[39m'\u001b[39m)\n\u001b[0;32m    241\u001b[0m     \u001b[39mraise\u001b[39;00m exception_class(message, screen, stacktrace, alert_text)\n\u001b[1;32m--> 242\u001b[0m \u001b[39mraise\u001b[39;00m exception_class(message, screen, stacktrace)\n",
      "\u001b[1;31mWebDriverException\u001b[0m: Message: chrome not reachable\n  (Session info: chrome=103.0.5060.66)\n"
     ]
    }
   ],
   "source": [
    "# 셀레니움 옵션 설정\n",
    "options = webdriver.ChromeOptions()\n",
    "# options.add_argument('headless') # 크롬 띄우는 창 없애기\n",
    "options.add_argument('window-size=1920x1080') # 크롬드라이버 창크기\n",
    "# options.add_argument(\"disable-gpu\") #그래픽 성능 낮춰서 크롤링 성능 쪼금 높이기\n",
    "options.add_argument(\"user-agent=Mozilla/5.0 (Macintosh; Intel Mac OS X 10_12_6) AppleWebKit/537.36 (KHTML, like Gecko) Chrome/61.0.3163.100 Safari/537.36\") # 네트워크 설정\n",
    "options.add_argument(\"lang=ko_KR\") # 사이트 주언어\n",
    "driver = webdriver.Chrome(ChromeDriverManager().install(),\n",
    "    chrome_options=options)\n",
    "\n",
    "# 크롤링 목표 : 해당 영상에 대한 댓글 id, 댓글 내용, 댓글의 좋아요 개수, 날짜 추출\n",
    "data_list = []\n",
    "driver.get(\"https://www.youtube.com/watch?v=AeVP4dzq174&list=PLVQ788SqBYulpfcD8iKxx2lqEYuCX8aZh&ab_channel=%EC%88%8F%EB%B0%95%EC%8A%A4\")\n",
    "\n",
    "# 스크롤 내리기\n",
    "body = driver.find_element_by_tag_name('body')\n",
    "last_page_height = driver.execute_script(\"return document.documentElement.scrollHeight\")\n",
    "while True:\n",
    "    driver.execute_script(\"window.scrollTo(0, document.documentElement.scrollHeight);\")\n",
    "    time.sleep(2)\n",
    "    new_page_height = driver.execute_script(\"return document.documentElement.scrollHeight\")\n",
    "    if new_page_height == last_page_height:\n",
    "        break\n",
    "    \n",
    "# bs4 html 파싱\n",
    "html0 = driver.page_source\n",
    "html = BeautifulSoup(html0, 'html.parser')\n",
    "comments_list = html.findAll('ytd-comment-thread-renderer', {'class': 'style-scope ytd-item-section-renderer'})\n",
    "\n",
    "for j in range(len(comments_list)):\n",
    "    ## 재생목록이름\n",
    "    list_name = comments_list[j].find('a', {'class': 'yt-simple-endpoint style-scope yt-formatted-string'}).text\n",
    "\n",
    "    ## 전체 조회수\n",
    "    views = comments_list[j].find('span', {'class': 'view-count style-scope ytd-video-view-count-renderer'}).text\n",
    "\n",
    "    ## 제목 \n",
    "    name = comments_list[j].find('yt-formatted-string', {'class': 'style-scope ytd-video-primary-info-renderer'}).text\n",
    "    \n",
    "    ## 댓글 내용\n",
    "    comment = comments_list[j].find('yt-formatted-string', {'id': 'content-text'}).text\n",
    "    comment = comment.replace('\\n', '') # 줄 바뀜 없애기\n",
    "    comment = comment.replace('\\t', '') # 탭 줄이기\n",
    "    # print(comment)\n",
    "    \n",
    "    ## 댓글 좋아요 개수 (0인 경우 예외 처리)\n",
    "    try:\n",
    "        like_num = comments_list[j].find('span',\n",
    "                                     {'id': 'vote-count-middle',\n",
    "                                      'class': 'style-scope ytd-comment-action-buttons-renderer',\n",
    "                                      'aria-label': re.compile('좋아요')}).text\n",
    "        like_num = like_num.replace('\\n', '') # 줄 바뀜 없애기\n",
    "        like_num = like_num.replace('\\t', '') # 탭 줄이기\n",
    "        like_num = like_num.strip()\n",
    "    except:\n",
    "        like_num = 0\n",
    "\n",
    "    data = {'list_name': list_name, 'name': name, 'views': views, 'comment': comment, 'like_num': like_num}\n",
    "    data_list.append(data)\n",
    "    # print(data)\n",
    "\n",
    "result_df = pd.DataFrame(data_list,\n",
    "                         columns=['list_name','name','views','comment', 'like_num'])\n",
    "result_df.to_excel(\"./data1.xlsx\", index = False)\n",
    "driver.close()"
   ]
  },
  {
   "cell_type": "code",
   "execution_count": null,
   "metadata": {},
   "outputs": [],
   "source": []
  },
  {
   "cell_type": "code",
   "execution_count": null,
   "metadata": {},
   "outputs": [],
   "source": []
  },
  {
   "cell_type": "code",
   "execution_count": null,
   "metadata": {},
   "outputs": [],
   "source": []
  }
 ],
 "metadata": {
  "kernelspec": {
   "display_name": "Python 3.8.0 ('cp1')",
   "language": "python",
   "name": "python3"
  },
  "language_info": {
   "codemirror_mode": {
    "name": "ipython",
    "version": 3
   },
   "file_extension": ".py",
   "mimetype": "text/x-python",
   "name": "python",
   "nbconvert_exporter": "python",
   "pygments_lexer": "ipython3",
   "version": "3.8.0"
  },
  "orig_nbformat": 4,
  "vscode": {
   "interpreter": {
    "hash": "81604e02ecb9c4133cf53d988d51d5d569bfb12104fadb8ae38bca081f4c6765"
   }
  }
 },
 "nbformat": 4,
 "nbformat_minor": 2
}
