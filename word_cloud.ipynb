{
 "cells": [
  {
   "cell_type": "code",
   "execution_count": 1,
   "metadata": {},
   "outputs": [],
   "source": [
    "from wordcloud import WordCloud\n",
    "import matplotlib.pyplot as plt\n",
    "from collections import Counter\n",
    "from konlpy.tag import Okt\n",
    "from PIL import Image\n",
    "import numpy as np\n"
   ]
  },
  {
   "cell_type": "code",
   "execution_count": 9,
   "metadata": {},
   "outputs": [],
   "source": [
    "# import import_ipynb\n",
    "# from data_preprocessing import *\n",
    "# 불러와서 함수만 사용하려고 했는데 ㅠ 더 까다로운듯"
   ]
  },
  {
   "cell_type": "code",
   "execution_count": 52,
   "metadata": {},
   "outputs": [],
   "source": [
    "import pandas as pd\n",
    "import numpy as np\n",
    "from konlpy.tag import Mecab\n",
    "import re"
   ]
  },
  {
   "cell_type": "code",
   "execution_count": 11,
   "metadata": {},
   "outputs": [],
   "source": [
    "def load_data(path):\n",
    "    \"\"\"\n",
    "    path = 'D:/AIB/CP1/여행계획.xlsx'\n",
    "    \"\"\"\n",
    "    df = pd.DataFrame()\n",
    "    data = pd.read_excel(path)\n",
    "    return data"
   ]
  },
  {
   "cell_type": "code",
   "execution_count": 12,
   "metadata": {},
   "outputs": [],
   "source": [
    "data = load_data('D:/AIB/CP1/벚꽃놀이.xlsx')"
   ]
  },
  {
   "cell_type": "code",
   "execution_count": 17,
   "metadata": {},
   "outputs": [
    {
     "name": "stdout",
     "output_type": "stream",
     "text": [
      "<class 'pandas.core.frame.DataFrame'>\n",
      "RangeIndex: 2200 entries, 0 to 2199\n",
      "Data columns (total 5 columns):\n",
      " #   Column     Non-Null Count  Dtype \n",
      "---  ------     --------------  ----- \n",
      " 0   list_name  2200 non-null   object\n",
      " 1   name       2200 non-null   object\n",
      " 2   views      2200 non-null   object\n",
      " 3   comment    2198 non-null   object\n",
      " 4   like_num   2200 non-null   object\n",
      "dtypes: object(5)\n",
      "memory usage: 86.1+ KB\n"
     ]
    }
   ],
   "source": [
    "data.info()\n"
   ]
  },
  {
   "cell_type": "code",
   "execution_count": 21,
   "metadata": {},
   "outputs": [],
   "source": [
    "def emoticon_del(data):\n",
    "    # #이모티콘 제거\n",
    "    # emoji_pattern = re.compile(\"[\"\n",
    "    #     u\"\\U0001F600-\\U0001F64F\"  # emoticons\n",
    "    #     u\"\\U0001F300-\\U0001F5FF\"  # symbols & pictographs\n",
    "    #     u\"\\U0001F680-\\U0001F6FF\"  # transport & map symbols\n",
    "    #     u\"\\U0001F1E0-\\U0001F1FF\"  # flags (iOS)\n",
    "    #                        \"]+\", flags=re.UNICODE)\n",
    "    #분석에 어긋나는 불용어구 제외 (특수문자, 의성어)\n",
    "    han = re.compile(r'[ㄱ-ㅎㅏ-ㅣ!?~,\"a-zA-z0-9:.\\n\\r#\\ufeff\\u200d]')\n",
    "\n",
    "    comment_list = []\n",
    "    for i in range(len(data)):\n",
    "        comment_list.append(data['comment'].iloc[i])\n",
    "\n",
    "    comment_result = []\n",
    "    for i in comment_list:\n",
    "        # tokens = re.sub(emoji_pattern,\"\",str(i))\n",
    "        tokens = re.sub(han,\"\",str(i))\n",
    "        comment_result.append(tokens)\n",
    "    comment_result = pd.DataFrame(comment_result, columns=[\"comment\"])\n",
    "    data['comment'] = comment_result \n",
    "\n",
    "    return data\n"
   ]
  },
  {
   "cell_type": "code",
   "execution_count": 24,
   "metadata": {},
   "outputs": [],
   "source": [
    "data = emoticon_del(data)"
   ]
  },
  {
   "cell_type": "code",
   "execution_count": 25,
   "metadata": {},
   "outputs": [
    {
     "data": {
      "text/html": [
       "<div>\n",
       "<style scoped>\n",
       "    .dataframe tbody tr th:only-of-type {\n",
       "        vertical-align: middle;\n",
       "    }\n",
       "\n",
       "    .dataframe tbody tr th {\n",
       "        vertical-align: top;\n",
       "    }\n",
       "\n",
       "    .dataframe thead th {\n",
       "        text-align: right;\n",
       "    }\n",
       "</style>\n",
       "<table border=\"1\" class=\"dataframe\">\n",
       "  <thead>\n",
       "    <tr style=\"text-align: right;\">\n",
       "      <th></th>\n",
       "      <th>list_name</th>\n",
       "      <th>name</th>\n",
       "      <th>views</th>\n",
       "      <th>comment</th>\n",
       "      <th>like_num</th>\n",
       "    </tr>\n",
       "  </thead>\n",
       "  <tbody>\n",
       "    <tr>\n",
       "      <th>0</th>\n",
       "      <td>[장기연애]</td>\n",
       "      <td>벚꽃놀이</td>\n",
       "      <td>조회수 5,391,893회</td>\n",
       "      <td>김치찌개 드실때부터 생각한건데 음식을 너무 찰지게 드심</td>\n",
       "      <td>1.8만</td>\n",
       "    </tr>\n",
       "    <tr>\n",
       "      <th>1</th>\n",
       "      <td>[장기연애]</td>\n",
       "      <td>벚꽃놀이</td>\n",
       "      <td>조회수 5,391,893회</td>\n",
       "      <td>떨어진 꽃잎을 모으는 것만큼 아름다운 것은 없어</td>\n",
       "      <td>1.4천</td>\n",
       "    </tr>\n",
       "    <tr>\n",
       "      <th>2</th>\n",
       "      <td>[장기연애]</td>\n",
       "      <td>벚꽃놀이</td>\n",
       "      <td>조회수 5,391,893회</td>\n",
       "      <td>자기 자리만 정성스럽게 먼지털고 휴지 대신 낙옆 주워서 닦으라고 주네찐사랑인듯</td>\n",
       "      <td>8.2천</td>\n",
       "    </tr>\n",
       "    <tr>\n",
       "      <th>3</th>\n",
       "      <td>[장기연애]</td>\n",
       "      <td>벚꽃놀이</td>\n",
       "      <td>조회수 5,391,893회</td>\n",
       "      <td>봉지 돌리면서 뛰어오시는거 너무 웃기고 기여우심</td>\n",
       "      <td>4.3천</td>\n",
       "    </tr>\n",
       "    <tr>\n",
       "      <th>4</th>\n",
       "      <td>[장기연애]</td>\n",
       "      <td>벚꽃놀이</td>\n",
       "      <td>조회수 5,391,893회</td>\n",
       "      <td>벚꽃 뿌려달라 할때 나무 발로 차는게 아니라 떨어진 꽃잎 모아서 쓴거 착해</td>\n",
       "      <td>4.6천</td>\n",
       "    </tr>\n",
       "    <tr>\n",
       "      <th>...</th>\n",
       "      <td>...</td>\n",
       "      <td>...</td>\n",
       "      <td>...</td>\n",
       "      <td>...</td>\n",
       "      <td>...</td>\n",
       "    </tr>\n",
       "    <tr>\n",
       "      <th>2195</th>\n",
       "      <td>[장기연애]</td>\n",
       "      <td>벚꽃놀이</td>\n",
       "      <td>조회수 5,391,893회</td>\n",
       "      <td>힝야</td>\n",
       "      <td>0</td>\n",
       "    </tr>\n",
       "    <tr>\n",
       "      <th>2196</th>\n",
       "      <td>[장기연애]</td>\n",
       "      <td>벚꽃놀이</td>\n",
       "      <td>조회수 5,391,893회</td>\n",
       "      <td>벤치 닦고 지가 앉아</td>\n",
       "      <td>0</td>\n",
       "    </tr>\n",
       "    <tr>\n",
       "      <th>2197</th>\n",
       "      <td>[장기연애]</td>\n",
       "      <td>벚꽃놀이</td>\n",
       "      <td>조회수 5,391,893회</td>\n",
       "      <td>용현동 신도브래뉴 오르막길 전체가 벚꽃입니다 오세요</td>\n",
       "      <td>0</td>\n",
       "    </tr>\n",
       "    <tr>\n",
       "      <th>2198</th>\n",
       "      <td>[장기연애]</td>\n",
       "      <td>벚꽃놀이</td>\n",
       "      <td>조회수 5,391,893회</td>\n",
       "      <td>한시간만에 만</td>\n",
       "      <td>0</td>\n",
       "    </tr>\n",
       "    <tr>\n",
       "      <th>2199</th>\n",
       "      <td>[장기연애]</td>\n",
       "      <td>벚꽃놀이</td>\n",
       "      <td>조회수 5,391,893회</td>\n",
       "      <td>근데 요즘애들 이정도로 무식하게 연애하나</td>\n",
       "      <td>0</td>\n",
       "    </tr>\n",
       "  </tbody>\n",
       "</table>\n",
       "<p>2200 rows × 5 columns</p>\n",
       "</div>"
      ],
      "text/plain": [
       "     list_name  name           views  \\\n",
       "0       [장기연애]  벚꽃놀이  조회수 5,391,893회   \n",
       "1       [장기연애]  벚꽃놀이  조회수 5,391,893회   \n",
       "2       [장기연애]  벚꽃놀이  조회수 5,391,893회   \n",
       "3       [장기연애]  벚꽃놀이  조회수 5,391,893회   \n",
       "4       [장기연애]  벚꽃놀이  조회수 5,391,893회   \n",
       "...        ...   ...             ...   \n",
       "2195    [장기연애]  벚꽃놀이  조회수 5,391,893회   \n",
       "2196    [장기연애]  벚꽃놀이  조회수 5,391,893회   \n",
       "2197    [장기연애]  벚꽃놀이  조회수 5,391,893회   \n",
       "2198    [장기연애]  벚꽃놀이  조회수 5,391,893회   \n",
       "2199    [장기연애]  벚꽃놀이  조회수 5,391,893회   \n",
       "\n",
       "                                           comment like_num  \n",
       "0                   김치찌개 드실때부터 생각한건데 음식을 너무 찰지게 드심     1.8만  \n",
       "1                    떨어진 꽃잎을 모으는 것만큼 아름다운 것은 없어        1.4천  \n",
       "2      자기 자리만 정성스럽게 먼지털고 휴지 대신 낙옆 주워서 닦으라고 주네찐사랑인듯     8.2천  \n",
       "3                      봉지 돌리면서 뛰어오시는거 너무 웃기고 기여우심      4.3천  \n",
       "4        벚꽃 뿌려달라 할때 나무 발로 차는게 아니라 떨어진 꽃잎 모아서 쓴거 착해     4.6천  \n",
       "...                                            ...      ...  \n",
       "2195                                            힝야        0  \n",
       "2196                                  벤치 닦고 지가 앉아         0  \n",
       "2197                  용현동 신도브래뉴 오르막길 전체가 벚꽃입니다 오세요        0  \n",
       "2198                                       한시간만에 만        0  \n",
       "2199                        근데 요즘애들 이정도로 무식하게 연애하나        0  \n",
       "\n",
       "[2200 rows x 5 columns]"
      ]
     },
     "execution_count": 25,
     "metadata": {},
     "output_type": "execute_result"
    }
   ],
   "source": [
    "data"
   ]
  },
  {
   "cell_type": "code",
   "execution_count": 26,
   "metadata": {},
   "outputs": [],
   "source": [
    "def tokenizer(data):\n",
    "    # 불용어(포함 안 시킬 단어) 처리 \n",
    "    stopwords = ['도', '는', '다', '의', '가', '이', '은', '한', '에', '하', '고', '을', '를', '인', '듯', '과', '와', '네', '들', '듯', '지', \n",
    "    '임', '게', '만', '게임', '겜', '되', '음', '면', '!', '.', ',', '~', '?', 'ㅡ', 'ㅠ', 'ㅜ']\n",
    "\n",
    "    ##C드라이브 Mecab이 설치되어 있는 곳 -> dicpath로 넣어주어야함\n",
    "    mecab = Mecab(dicpath=r\"C:/mecab/mecab-ko-dic\") \n",
    "    \n",
    "    data['tokenized'] = data['comment'].apply(mecab.morphs) #형태소 추출\n",
    "    data['tokenized'] = data['tokenized'].apply(lambda x: [item for item in x if item not in stopwords])"
   ]
  },
  {
   "cell_type": "code",
   "execution_count": 27,
   "metadata": {},
   "outputs": [
    {
     "data": {
      "text/html": [
       "<div>\n",
       "<style scoped>\n",
       "    .dataframe tbody tr th:only-of-type {\n",
       "        vertical-align: middle;\n",
       "    }\n",
       "\n",
       "    .dataframe tbody tr th {\n",
       "        vertical-align: top;\n",
       "    }\n",
       "\n",
       "    .dataframe thead th {\n",
       "        text-align: right;\n",
       "    }\n",
       "</style>\n",
       "<table border=\"1\" class=\"dataframe\">\n",
       "  <thead>\n",
       "    <tr style=\"text-align: right;\">\n",
       "      <th></th>\n",
       "      <th>list_name</th>\n",
       "      <th>name</th>\n",
       "      <th>views</th>\n",
       "      <th>comment</th>\n",
       "      <th>like_num</th>\n",
       "      <th>tokenized</th>\n",
       "    </tr>\n",
       "  </thead>\n",
       "  <tbody>\n",
       "    <tr>\n",
       "      <th>0</th>\n",
       "      <td>[장기연애]</td>\n",
       "      <td>벚꽃놀이</td>\n",
       "      <td>조회수 5,391,893회</td>\n",
       "      <td>김치찌개 드실때부터 생각한건데 음식을 너무 찰지게 드심</td>\n",
       "      <td>1.8만</td>\n",
       "      <td>[김치찌개, 드실, 때, 부터, 생각, 건데, 음식, 너무, 찰지, 드, 심]</td>\n",
       "    </tr>\n",
       "    <tr>\n",
       "      <th>1</th>\n",
       "      <td>[장기연애]</td>\n",
       "      <td>벚꽃놀이</td>\n",
       "      <td>조회수 5,391,893회</td>\n",
       "      <td>떨어진 꽃잎을 모으는 것만큼 아름다운 것은 없어</td>\n",
       "      <td>1.4천</td>\n",
       "      <td>[떨어진, 꽃잎, 모으, 것, 만큼, 아름다운, 것, 없, 어]</td>\n",
       "    </tr>\n",
       "    <tr>\n",
       "      <th>2</th>\n",
       "      <td>[장기연애]</td>\n",
       "      <td>벚꽃놀이</td>\n",
       "      <td>조회수 5,391,893회</td>\n",
       "      <td>자기 자리만 정성스럽게 먼지털고 휴지 대신 낙옆 주워서 닦으라고 주네찐사랑인듯</td>\n",
       "      <td>8.2천</td>\n",
       "      <td>[자기, 자리, 정성, 스럽, 먼지, 털, 휴지, 대신, 낙, 옆, 주워서, 닦, ...</td>\n",
       "    </tr>\n",
       "    <tr>\n",
       "      <th>3</th>\n",
       "      <td>[장기연애]</td>\n",
       "      <td>벚꽃놀이</td>\n",
       "      <td>조회수 5,391,893회</td>\n",
       "      <td>봉지 돌리면서 뛰어오시는거 너무 웃기고 기여우심</td>\n",
       "      <td>4.3천</td>\n",
       "      <td>[봉지, 돌리, 면서, 뛰어오, 시, 거, 너무, 웃기, 기여, 우심]</td>\n",
       "    </tr>\n",
       "    <tr>\n",
       "      <th>4</th>\n",
       "      <td>[장기연애]</td>\n",
       "      <td>벚꽃놀이</td>\n",
       "      <td>조회수 5,391,893회</td>\n",
       "      <td>벚꽃 뿌려달라 할때 나무 발로 차는게 아니라 떨어진 꽃잎 모아서 쓴거 착해</td>\n",
       "      <td>4.6천</td>\n",
       "      <td>[벚꽃, 뿌려, 달, 라, 할, 때, 나무, 발, 로, 차, 아니, 라, 떨어진, ...</td>\n",
       "    </tr>\n",
       "    <tr>\n",
       "      <th>...</th>\n",
       "      <td>...</td>\n",
       "      <td>...</td>\n",
       "      <td>...</td>\n",
       "      <td>...</td>\n",
       "      <td>...</td>\n",
       "      <td>...</td>\n",
       "    </tr>\n",
       "    <tr>\n",
       "      <th>2195</th>\n",
       "      <td>[장기연애]</td>\n",
       "      <td>벚꽃놀이</td>\n",
       "      <td>조회수 5,391,893회</td>\n",
       "      <td>힝야</td>\n",
       "      <td>0</td>\n",
       "      <td>[힝, 야]</td>\n",
       "    </tr>\n",
       "    <tr>\n",
       "      <th>2196</th>\n",
       "      <td>[장기연애]</td>\n",
       "      <td>벚꽃놀이</td>\n",
       "      <td>조회수 5,391,893회</td>\n",
       "      <td>벤치 닦고 지가 앉아</td>\n",
       "      <td>0</td>\n",
       "      <td>[벤치, 닦, 앉, 아]</td>\n",
       "    </tr>\n",
       "    <tr>\n",
       "      <th>2197</th>\n",
       "      <td>[장기연애]</td>\n",
       "      <td>벚꽃놀이</td>\n",
       "      <td>조회수 5,391,893회</td>\n",
       "      <td>용현동 신도브래뉴 오르막길 전체가 벚꽃입니다 오세요</td>\n",
       "      <td>0</td>\n",
       "      <td>[용현동, 신, 브, 래, 뉴, 오르막길, 전체, 벚꽃, 입니다, 오, 세, 요]</td>\n",
       "    </tr>\n",
       "    <tr>\n",
       "      <th>2198</th>\n",
       "      <td>[장기연애]</td>\n",
       "      <td>벚꽃놀이</td>\n",
       "      <td>조회수 5,391,893회</td>\n",
       "      <td>한시간만에 만</td>\n",
       "      <td>0</td>\n",
       "      <td>[시간]</td>\n",
       "    </tr>\n",
       "    <tr>\n",
       "      <th>2199</th>\n",
       "      <td>[장기연애]</td>\n",
       "      <td>벚꽃놀이</td>\n",
       "      <td>조회수 5,391,893회</td>\n",
       "      <td>근데 요즘애들 이정도로 무식하게 연애하나</td>\n",
       "      <td>0</td>\n",
       "      <td>[근데, 요즘, 애, 정도, 로, 무식, 연애, 나]</td>\n",
       "    </tr>\n",
       "  </tbody>\n",
       "</table>\n",
       "<p>2200 rows × 6 columns</p>\n",
       "</div>"
      ],
      "text/plain": [
       "     list_name  name           views  \\\n",
       "0       [장기연애]  벚꽃놀이  조회수 5,391,893회   \n",
       "1       [장기연애]  벚꽃놀이  조회수 5,391,893회   \n",
       "2       [장기연애]  벚꽃놀이  조회수 5,391,893회   \n",
       "3       [장기연애]  벚꽃놀이  조회수 5,391,893회   \n",
       "4       [장기연애]  벚꽃놀이  조회수 5,391,893회   \n",
       "...        ...   ...             ...   \n",
       "2195    [장기연애]  벚꽃놀이  조회수 5,391,893회   \n",
       "2196    [장기연애]  벚꽃놀이  조회수 5,391,893회   \n",
       "2197    [장기연애]  벚꽃놀이  조회수 5,391,893회   \n",
       "2198    [장기연애]  벚꽃놀이  조회수 5,391,893회   \n",
       "2199    [장기연애]  벚꽃놀이  조회수 5,391,893회   \n",
       "\n",
       "                                           comment like_num  \\\n",
       "0                   김치찌개 드실때부터 생각한건데 음식을 너무 찰지게 드심     1.8만   \n",
       "1                    떨어진 꽃잎을 모으는 것만큼 아름다운 것은 없어        1.4천   \n",
       "2      자기 자리만 정성스럽게 먼지털고 휴지 대신 낙옆 주워서 닦으라고 주네찐사랑인듯     8.2천   \n",
       "3                      봉지 돌리면서 뛰어오시는거 너무 웃기고 기여우심      4.3천   \n",
       "4        벚꽃 뿌려달라 할때 나무 발로 차는게 아니라 떨어진 꽃잎 모아서 쓴거 착해     4.6천   \n",
       "...                                            ...      ...   \n",
       "2195                                            힝야        0   \n",
       "2196                                  벤치 닦고 지가 앉아         0   \n",
       "2197                  용현동 신도브래뉴 오르막길 전체가 벚꽃입니다 오세요        0   \n",
       "2198                                       한시간만에 만        0   \n",
       "2199                        근데 요즘애들 이정도로 무식하게 연애하나        0   \n",
       "\n",
       "                                              tokenized  \n",
       "0           [김치찌개, 드실, 때, 부터, 생각, 건데, 음식, 너무, 찰지, 드, 심]  \n",
       "1                   [떨어진, 꽃잎, 모으, 것, 만큼, 아름다운, 것, 없, 어]  \n",
       "2     [자기, 자리, 정성, 스럽, 먼지, 털, 휴지, 대신, 낙, 옆, 주워서, 닦, ...  \n",
       "3               [봉지, 돌리, 면서, 뛰어오, 시, 거, 너무, 웃기, 기여, 우심]  \n",
       "4     [벚꽃, 뿌려, 달, 라, 할, 때, 나무, 발, 로, 차, 아니, 라, 떨어진, ...  \n",
       "...                                                 ...  \n",
       "2195                                             [힝, 야]  \n",
       "2196                                      [벤치, 닦, 앉, 아]  \n",
       "2197      [용현동, 신, 브, 래, 뉴, 오르막길, 전체, 벚꽃, 입니다, 오, 세, 요]  \n",
       "2198                                               [시간]  \n",
       "2199                      [근데, 요즘, 애, 정도, 로, 무식, 연애, 나]  \n",
       "\n",
       "[2200 rows x 6 columns]"
      ]
     },
     "execution_count": 27,
     "metadata": {},
     "output_type": "execute_result"
    }
   ],
   "source": [
    "tokenizer(data)\n",
    "data"
   ]
  },
  {
   "cell_type": "code",
   "execution_count": 67,
   "metadata": {},
   "outputs": [],
   "source": [
    "# 전체 코멘트를 하나의 리스트에 담기\n",
    "comment_sum = []\n",
    "for i in range(len(data)):\n",
    "    comment_sum.append(data['comment'].iloc[i])"
   ]
  },
  {
   "cell_type": "code",
   "execution_count": 74,
   "metadata": {},
   "outputs": [],
   "source": [
    "# 형태소 분석을 해주기 위해 컬럼을 하나의 문자열로 만들어주기 \n",
    "str_comment_sum = \" \".join(comment_sum)"
   ]
  },
  {
   "cell_type": "code",
   "execution_count": null,
   "metadata": {},
   "outputs": [],
   "source": [
    "# 문자열로 떳는지 확인 \n",
    "str_comment_sum"
   ]
  },
  {
   "cell_type": "code",
   "execution_count": null,
   "metadata": {},
   "outputs": [],
   "source": [
    "# 전체 comment에서 형태소 단위로 분리 \n",
    "mecab = Mecab(dicpath=r\"C:/mecab/mecab-ko-dic\") \n",
    "morphs = mecab.morphs(str_comment_sum)\n",
    "morphs"
   ]
  },
  {
   "cell_type": "code",
   "execution_count": 78,
   "metadata": {},
   "outputs": [],
   "source": [
    "# morphs 단어 길이가 2 이상만 \n",
    "words = [n for n in morphs if len(n) > 1]"
   ]
  },
  {
   "cell_type": "code",
   "execution_count": 79,
   "metadata": {},
   "outputs": [],
   "source": [
    "# words에서 단어의 개수에 맞춰서 카운팅 \n",
    "c = Counter(words)"
   ]
  },
  {
   "cell_type": "code",
   "execution_count": 80,
   "metadata": {},
   "outputs": [
    {
     "data": {
      "text/plain": [
       "<matplotlib.image.AxesImage at 0x17384f36e80>"
      ]
     },
     "execution_count": 80,
     "metadata": {},
     "output_type": "execute_result"
    },
    {
     "data": {
      "image/png": "[encoded data removed]",
      "text/plain": [
       "<Figure size 432x288 with 1 Axes>"
      ]
     },
     "metadata": {
      "needs_background": "light"
     },
     "output_type": "display_data"
    }
   ],
   "source": [
    "#워드크라우드로 보이게 하기 \n",
    "wc = WordCloud(font_path='malgun', width=400, height=400, scale=2.0, max_font_size=250)\n",
    "gen = wc.generate_from_frequencies(c)\n",
    "plt.figure()\n",
    "plt.imshow(gen)"
   ]
  },
  {
   "cell_type": "code",
   "execution_count": 82,
   "metadata": {},
   "outputs": [
    {
     "data": {
      "text/plain": [
       "wordcloud.wordcloud.WordCloud"
      ]
     },
     "execution_count": 82,
     "metadata": {},
     "output_type": "execute_result"
    }
   ],
   "source": [
    "type(gen)"
   ]
  }
 ],
 "metadata": {
  "kernelspec": {
   "display_name": "Python 3.8.0 ('cp11')",
   "language": "python",
   "name": "python3"
  },
  "language_info": {
   "codemirror_mode": {
    "name": "ipython",
    "version": 3
   },
   "file_extension": ".py",
   "mimetype": "text/x-python",
   "name": "python",
   "nbconvert_exporter": "python",
   "pygments_lexer": "ipython3",
   "version": "3.8.0"
  },
  "orig_nbformat": 4,
  "vscode": {
   "interpreter": {
    "hash": "fc939d0beae665d0569f4e78780994eecb054af4123cbe6f2610a2d31b1b9fcc"
   }
  }
 },
 "nbformat": 4,
 "nbformat_minor": 2
}
